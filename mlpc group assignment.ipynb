{
  "nbformat": 4,
  "nbformat_minor": 0,
  "metadata": {
    "colab": {
      "provenance": [],
      "gpuType": "V28"
    },
    "kernelspec": {
      "name": "python3",
      "display_name": "Python 3"
    },
    "language_info": {
      "name": "python"
    },
    "accelerator": "TPU"
  },
  "cells": [
    {
      "cell_type": "code",
      "source": [
        "from google.colab import files\n",
        "uploaded = files.upload()"
      ],
      "metadata": {
        "colab": {
          "base_uri": "https://localhost:8080/",
          "height": 74
        },
        "id": "I4uMVwmF6je7",
        "outputId": "61537469-81e1-4837-8842-97acaa0ead4b"
      },
      "execution_count": 18,
      "outputs": [
        {
          "output_type": "display_data",
          "data": {
            "text/plain": [
              "<IPython.core.display.HTML object>"
            ],
            "text/html": [
              "\n",
              "     <input type=\"file\" id=\"files-ed7394aa-ef43-4534-a0ec-ced877e0a3db\" name=\"files[]\" multiple disabled\n",
              "        style=\"border:none\" />\n",
              "     <output id=\"result-ed7394aa-ef43-4534-a0ec-ced877e0a3db\">\n",
              "      Upload widget is only available when the cell has been executed in the\n",
              "      current browser session. Please rerun this cell to enable.\n",
              "      </output>\n",
              "      <script>// Copyright 2017 Google LLC\n",
              "//\n",
              "// Licensed under the Apache License, Version 2.0 (the \"License\");\n",
              "// you may not use this file except in compliance with the License.\n",
              "// You may obtain a copy of the License at\n",
              "//\n",
              "//      http://www.apache.org/licenses/LICENSE-2.0\n",
              "//\n",
              "// Unless required by applicable law or agreed to in writing, software\n",
              "// distributed under the License is distributed on an \"AS IS\" BASIS,\n",
              "// WITHOUT WARRANTIES OR CONDITIONS OF ANY KIND, either express or implied.\n",
              "// See the License for the specific language governing permissions and\n",
              "// limitations under the License.\n",
              "\n",
              "/**\n",
              " * @fileoverview Helpers for google.colab Python module.\n",
              " */\n",
              "(function(scope) {\n",
              "function span(text, styleAttributes = {}) {\n",
              "  const element = document.createElement('span');\n",
              "  element.textContent = text;\n",
              "  for (const key of Object.keys(styleAttributes)) {\n",
              "    element.style[key] = styleAttributes[key];\n",
              "  }\n",
              "  return element;\n",
              "}\n",
              "\n",
              "// Max number of bytes which will be uploaded at a time.\n",
              "const MAX_PAYLOAD_SIZE = 100 * 1024;\n",
              "\n",
              "function _uploadFiles(inputId, outputId) {\n",
              "  const steps = uploadFilesStep(inputId, outputId);\n",
              "  const outputElement = document.getElementById(outputId);\n",
              "  // Cache steps on the outputElement to make it available for the next call\n",
              "  // to uploadFilesContinue from Python.\n",
              "  outputElement.steps = steps;\n",
              "\n",
              "  return _uploadFilesContinue(outputId);\n",
              "}\n",
              "\n",
              "// This is roughly an async generator (not supported in the browser yet),\n",
              "// where there are multiple asynchronous steps and the Python side is going\n",
              "// to poll for completion of each step.\n",
              "// This uses a Promise to block the python side on completion of each step,\n",
              "// then passes the result of the previous step as the input to the next step.\n",
              "function _uploadFilesContinue(outputId) {\n",
              "  const outputElement = document.getElementById(outputId);\n",
              "  const steps = outputElement.steps;\n",
              "\n",
              "  const next = steps.next(outputElement.lastPromiseValue);\n",
              "  return Promise.resolve(next.value.promise).then((value) => {\n",
              "    // Cache the last promise value to make it available to the next\n",
              "    // step of the generator.\n",
              "    outputElement.lastPromiseValue = value;\n",
              "    return next.value.response;\n",
              "  });\n",
              "}\n",
              "\n",
              "/**\n",
              " * Generator function which is called between each async step of the upload\n",
              " * process.\n",
              " * @param {string} inputId Element ID of the input file picker element.\n",
              " * @param {string} outputId Element ID of the output display.\n",
              " * @return {!Iterable<!Object>} Iterable of next steps.\n",
              " */\n",
              "function* uploadFilesStep(inputId, outputId) {\n",
              "  const inputElement = document.getElementById(inputId);\n",
              "  inputElement.disabled = false;\n",
              "\n",
              "  const outputElement = document.getElementById(outputId);\n",
              "  outputElement.innerHTML = '';\n",
              "\n",
              "  const pickedPromise = new Promise((resolve) => {\n",
              "    inputElement.addEventListener('change', (e) => {\n",
              "      resolve(e.target.files);\n",
              "    });\n",
              "  });\n",
              "\n",
              "  const cancel = document.createElement('button');\n",
              "  inputElement.parentElement.appendChild(cancel);\n",
              "  cancel.textContent = 'Cancel upload';\n",
              "  const cancelPromise = new Promise((resolve) => {\n",
              "    cancel.onclick = () => {\n",
              "      resolve(null);\n",
              "    };\n",
              "  });\n",
              "\n",
              "  // Wait for the user to pick the files.\n",
              "  const files = yield {\n",
              "    promise: Promise.race([pickedPromise, cancelPromise]),\n",
              "    response: {\n",
              "      action: 'starting',\n",
              "    }\n",
              "  };\n",
              "\n",
              "  cancel.remove();\n",
              "\n",
              "  // Disable the input element since further picks are not allowed.\n",
              "  inputElement.disabled = true;\n",
              "\n",
              "  if (!files) {\n",
              "    return {\n",
              "      response: {\n",
              "        action: 'complete',\n",
              "      }\n",
              "    };\n",
              "  }\n",
              "\n",
              "  for (const file of files) {\n",
              "    const li = document.createElement('li');\n",
              "    li.append(span(file.name, {fontWeight: 'bold'}));\n",
              "    li.append(span(\n",
              "        `(${file.type || 'n/a'}) - ${file.size} bytes, ` +\n",
              "        `last modified: ${\n",
              "            file.lastModifiedDate ? file.lastModifiedDate.toLocaleDateString() :\n",
              "                                    'n/a'} - `));\n",
              "    const percent = span('0% done');\n",
              "    li.appendChild(percent);\n",
              "\n",
              "    outputElement.appendChild(li);\n",
              "\n",
              "    const fileDataPromise = new Promise((resolve) => {\n",
              "      const reader = new FileReader();\n",
              "      reader.onload = (e) => {\n",
              "        resolve(e.target.result);\n",
              "      };\n",
              "      reader.readAsArrayBuffer(file);\n",
              "    });\n",
              "    // Wait for the data to be ready.\n",
              "    let fileData = yield {\n",
              "      promise: fileDataPromise,\n",
              "      response: {\n",
              "        action: 'continue',\n",
              "      }\n",
              "    };\n",
              "\n",
              "    // Use a chunked sending to avoid message size limits. See b/62115660.\n",
              "    let position = 0;\n",
              "    do {\n",
              "      const length = Math.min(fileData.byteLength - position, MAX_PAYLOAD_SIZE);\n",
              "      const chunk = new Uint8Array(fileData, position, length);\n",
              "      position += length;\n",
              "\n",
              "      const base64 = btoa(String.fromCharCode.apply(null, chunk));\n",
              "      yield {\n",
              "        response: {\n",
              "          action: 'append',\n",
              "          file: file.name,\n",
              "          data: base64,\n",
              "        },\n",
              "      };\n",
              "\n",
              "      let percentDone = fileData.byteLength === 0 ?\n",
              "          100 :\n",
              "          Math.round((position / fileData.byteLength) * 100);\n",
              "      percent.textContent = `${percentDone}% done`;\n",
              "\n",
              "    } while (position < fileData.byteLength);\n",
              "  }\n",
              "\n",
              "  // All done.\n",
              "  yield {\n",
              "    response: {\n",
              "      action: 'complete',\n",
              "    }\n",
              "  };\n",
              "}\n",
              "\n",
              "scope.google = scope.google || {};\n",
              "scope.google.colab = scope.google.colab || {};\n",
              "scope.google.colab._files = {\n",
              "  _uploadFiles,\n",
              "  _uploadFilesContinue,\n",
              "};\n",
              "})(self);\n",
              "</script> "
            ]
          },
          "metadata": {}
        },
        {
          "output_type": "stream",
          "name": "stdout",
          "text": [
            "Saving Smartgrid.csv to Smartgrid.csv\n"
          ]
        }
      ]
    },
    {
      "cell_type": "markdown",
      "source": [
        "Importing Libarires"
      ],
      "metadata": {
        "id": "Sgrj0hiKPgs7"
      }
    },
    {
      "cell_type": "code",
      "source": [
        "import pandas as pd\n",
        "import numpy as np\n",
        "import random\n",
        "import time\n",
        "import multiprocessing\n",
        "import matplotlib.pyplot as plt\n",
        "import threading\n",
        "import psutil"
      ],
      "metadata": {
        "id": "ViDuY4GL-nis"
      },
      "execution_count": 1,
      "outputs": []
    },
    {
      "cell_type": "markdown",
      "source": [
        "Monitoring (CPU)"
      ],
      "metadata": {
        "id": "kCjk5_NlQMHP"
      }
    },
    {
      "cell_type": "code",
      "source": [
        "\n",
        "cpu_usage_data = []\n",
        "monitoring = False"
      ],
      "metadata": {
        "id": "al0MH9oE-r_H"
      },
      "execution_count": 2,
      "outputs": []
    },
    {
      "cell_type": "code",
      "source": [
        "\n",
        "def monitor_system_usage():\n",
        "    global cpu_usage_data, monitoring\n",
        "    cpu_usage_data = []\n",
        "    while monitoring:\n",
        "        cpu_usage_data.append(psutil.cpu_percent(interval=0.1))"
      ],
      "metadata": {
        "id": "xzYf2bn7-v-S"
      },
      "execution_count": 3,
      "outputs": []
    },
    {
      "cell_type": "code",
      "source": [
        "\n",
        "\n",
        "def start_monitoring():\n",
        "    global monitoring\n",
        "    monitoring = True\n",
        "    thread = threading.Thread(target=monitor_system_usage, daemon=True)\n",
        "    thread.start()\n",
        "    return thread"
      ],
      "metadata": {
        "id": "oct7obQ6-yXZ"
      },
      "execution_count": 4,
      "outputs": []
    },
    {
      "cell_type": "code",
      "source": [
        "\n",
        "def stop_monitoring():\n",
        "    global monitoring\n",
        "    monitoring = False\n"
      ],
      "metadata": {
        "id": "A9pePfAI-3g1"
      },
      "execution_count": 5,
      "outputs": []
    },
    {
      "cell_type": "markdown",
      "source": [
        "Dataset Loader"
      ],
      "metadata": {
        "id": "_a2OD0yrQd0T"
      }
    },
    {
      "cell_type": "code",
      "source": [
        "def load_energy_data(file_path):\n",
        "    df = pd.read_csv(file_path)\n",
        "    districts = df['district'].unique()\n",
        "    num_timeslots = df.groupby('district')['timestamp'].nunique().max()\n",
        "\n",
        "    demand_matrix = []\n",
        "    solar_matrix = []\n",
        "    hydro_matrix = []\n",
        "    price_matrix = []\n",
        "    penalty_matrix = []\n",
        "    loss_matrix = []\n",
        "    peak_hours = []\n",
        "\n",
        "    for d in districts:\n",
        "        sub_df = df[df['district'] == d].reset_index(drop=True)\n",
        "        # Pad or truncate the data for each district to match the maximum number of timeslots\n",
        "        demand_matrix.append(np.pad(sub_df['demand_kw'].values, (0, num_timeslots - len(sub_df)), 'constant'))\n",
        "        solar_matrix.append(np.pad(sub_df['solar_supply_kw'].values, (0, num_timeslots - len(sub_df)), 'constant'))\n",
        "        hydro_matrix.append(np.pad(sub_df['hydro_supply_kw'].values, (0, num_timeslots - len(sub_df)), 'constant'))\n",
        "        price_matrix.append(np.pad(sub_df['grid_price_per_kwh'].values, (0, num_timeslots - len(sub_df)), 'constant'))\n",
        "        penalty_matrix.append(np.pad(sub_df['penalty_per_kw_unmet'].values, (0, num_timeslots - len(sub_df)), 'constant'))\n",
        "        loss_matrix.append(np.pad(sub_df['line_loss_percent'].values / 100, (0, num_timeslots - len(sub_df)), 'constant'))\n",
        "        if len(peak_hours) == 0: # Assuming peak_hours is the same for all districts\n",
        "             peak_hours = sub_df['peak_hour'].values[:num_timeslots]\n",
        "\n",
        "\n",
        "    return {\n",
        "        'districts': districts,\n",
        "        'num_nodes': len(districts),\n",
        "        'num_sources': 2,\n",
        "        'num_timeslots': num_timeslots,\n",
        "        'demand_matrix': np.array(demand_matrix),\n",
        "        'capacity_matrix': np.array([solar_matrix, hydro_matrix]),  # shape: (2, num_nodes, T)\n",
        "        'price_matrix': np.array(price_matrix),\n",
        "        'penalty_matrix': np.array(penalty_matrix),\n",
        "        'loss_matrix': np.array(loss_matrix),\n",
        "        'peak_hours': np.array(peak_hours)\n",
        "    }"
      ],
      "metadata": {
        "id": "bctCRn2w-7VU"
      },
      "execution_count": 6,
      "outputs": []
    },
    {
      "cell_type": "markdown",
      "source": [
        "Cost Matrix and penalty weights"
      ],
      "metadata": {
        "id": "kqPFdetzQuaC"
      }
    },
    {
      "cell_type": "code",
      "source": [
        "COST_WEIGHT = 1.0\n",
        "CAPACITY_PENALTY_WEIGHT = 50\n",
        "DEMAND_PENALTY_WEIGHT = 100\n",
        "PEAK_PENALTY_WEIGHT = 50\n",
        "\n",
        "def create_cost_matrix(data):\n",
        "    \"\"\"Dynamic cost matrix per source-node (avg)\"\"\"\n",
        "    return np.array([\n",
        "        [1.0]*data['num_nodes'],\n",
        "        [1.8]*data['num_nodes']\n",
        "    ])\n"
      ],
      "metadata": {
        "id": "ye6e0C_-_C9l"
      },
      "execution_count": 7,
      "outputs": []
    },
    {
      "cell_type": "markdown",
      "source": [
        "Poulation Initiallization"
      ],
      "metadata": {
        "id": "Dmb-wdFVQ1Di"
      }
    },
    {
      "cell_type": "code",
      "source": [
        "def initialize_population(data, pop_size):\n",
        "    pop = []\n",
        "    for _ in range(pop_size):\n",
        "        chromo = np.zeros((data['num_sources'], data['num_nodes'], data['num_timeslots']))\n",
        "        for t in range(data['num_timeslots']):\n",
        "            for n in range(data['num_nodes']):\n",
        "                demand = data['demand_matrix'][n, t]\n",
        "                solar_cap = data['capacity_matrix'][0][n, t]\n",
        "                hydro_cap = data['capacity_matrix'][1][n, t]\n",
        "\n",
        "                # Random proportion between 0.2 to 0.8\n",
        "                prop = random.uniform(0.2, 0.8)\n",
        "                solar_alloc = min(demand * prop, solar_cap)\n",
        "                hydro_alloc = min(demand * (1 - prop), hydro_cap)\n",
        "\n",
        "                chromo[0, n, t] = solar_alloc\n",
        "                chromo[1, n, t] = hydro_alloc\n",
        "\n",
        "        pop.append(chromo.flatten())\n",
        "    return pop"
      ],
      "metadata": {
        "id": "W0aNxY-j_Gbu"
      },
      "execution_count": 8,
      "outputs": []
    },
    {
      "cell_type": "markdown",
      "source": [
        "Total Energy Cost Calculaton"
      ],
      "metadata": {
        "id": "gCAdYsZKQ9Hs"
      }
    },
    {
      "cell_type": "code",
      "source": [
        "\n",
        "def compute_total_cost(chromo, data, cost_matrix):\n",
        "    chromo = chromo.reshape(data['num_sources'], data['num_nodes'], data['num_timeslots'])\n",
        "    total_cost = 0\n",
        "    for t in range(data['num_timeslots']):\n",
        "        for s in range(data['num_sources']):\n",
        "            for n in range(data['num_nodes']):\n",
        "                energy = chromo[s, n, t]\n",
        "                loss = data['loss_matrix'][n, t]\n",
        "                total_cost += energy * cost_matrix[s, n] * (1 + loss)\n",
        "    return total_cost * COST_WEIGHT\n"
      ],
      "metadata": {
        "id": "LcU9_V81_Jqw"
      },
      "execution_count": 9,
      "outputs": []
    },
    {
      "cell_type": "markdown",
      "source": [
        "Pennalty Calculation"
      ],
      "metadata": {
        "id": "e19Ew2MHRHxO"
      }
    },
    {
      "cell_type": "code",
      "source": [
        "\n",
        "def compute_capacity_penalty(chromo, data):\n",
        "    chromo = chromo.reshape(data['num_sources'], data['num_nodes'], data['num_timeslots'])\n",
        "    penalty = 0\n",
        "    for t in range(data['num_timeslots']):\n",
        "        for s in range(data['num_sources']):\n",
        "            for n in range(data['num_nodes']):\n",
        "                if chromo[s, n, t] > data['capacity_matrix'][s][n, t]:\n",
        "                    penalty += (chromo[s, n, t] - data['capacity_matrix'][s][n, t]) * CAPACITY_PENALTY_WEIGHT\n",
        "    return penalty"
      ],
      "metadata": {
        "id": "NjBdm_tO_MHF"
      },
      "execution_count": 10,
      "outputs": []
    },
    {
      "cell_type": "code",
      "source": [
        "\n",
        "def compute_demand_penalty(chromo, data):\n",
        "    chromo = chromo.reshape(data['num_sources'], data['num_nodes'], data['num_timeslots'])\n",
        "    penalty = 0\n",
        "    for t in range(data['num_timeslots']):\n",
        "        for n in range(data['num_nodes']):\n",
        "            received = np.sum(chromo[:, n, t])\n",
        "            demand = data['demand_matrix'][n, t]\n",
        "            penalty += abs(received - demand) * DEMAND_PENALTY_WEIGHT\n",
        "    return penalty"
      ],
      "metadata": {
        "id": "ZarOlmVZ_O5L"
      },
      "execution_count": 11,
      "outputs": []
    },
    {
      "cell_type": "code",
      "source": [
        "def compute_peak_penalty(chromo, data):\n",
        "    chromo = chromo.reshape(data['num_sources'], data['num_nodes'], data['num_timeslots'])\n",
        "    penalty = 0\n",
        "    for t in range(data['num_timeslots']):\n",
        "        if data['peak_hours'][t] == 1:\n",
        "            total = np.sum(chromo[:, :, t])\n",
        "            if total > 100:\n",
        "                penalty += (total - 100) * PEAK_PENALTY_WEIGHT\n",
        "    return penalty"
      ],
      "metadata": {
        "id": "opehYi0H_Sha"
      },
      "execution_count": 12,
      "outputs": []
    },
    {
      "cell_type": "markdown",
      "source": [
        "Fitness Function"
      ],
      "metadata": {
        "id": "bwTIg9hyRTQH"
      }
    },
    {
      "cell_type": "code",
      "source": [
        "\n",
        "\n",
        "def fitness(chromo, data, cost_matrix):\n",
        "    return (\n",
        "        compute_total_cost(chromo, data, cost_matrix) +\n",
        "        compute_capacity_penalty(chromo, data) +\n",
        "        compute_demand_penalty(chromo, data) +\n",
        "        compute_peak_penalty(chromo, data)\n",
        "    )"
      ],
      "metadata": {
        "id": "auZG8M3l_Ufu"
      },
      "execution_count": 13,
      "outputs": []
    },
    {
      "cell_type": "markdown",
      "source": [
        "Crossover and mutatation"
      ],
      "metadata": {
        "id": "zMxS7WIBRcC4"
      }
    },
    {
      "cell_type": "code",
      "source": [
        "def select_parents(pop, fits, k=3):\n",
        "    return [min(random.sample(list(zip(fits, pop)), k), key=lambda x: x[0])[1] for _ in range(2)]\n",
        "\n",
        "def crossover(p1, p2):\n",
        "    a, b = sorted(random.sample(range(len(p1)), 2))\n",
        "    c1 = np.concatenate([p1[:a], p2[a:b], p1[b:]])\n",
        "    c2 = np.concatenate([p2[:a], p1[a:b], p2[b:]])\n",
        "    return c1, c2\n",
        "\n",
        "def mutate(chromo, rate=0.3, strength=0.5):\n",
        "    for i in range(len(chromo)):\n",
        "        if random.random() < rate:\n",
        "            chromo[i] += chromo[i] * strength * (random.random() * 2 - 1)\n",
        "            chromo[i] = max(chromo[i], 0)\n",
        "    return chromo"
      ],
      "metadata": {
        "id": "Ey2g8936_VdQ"
      },
      "execution_count": 14,
      "outputs": []
    },
    {
      "cell_type": "markdown",
      "source": [
        "Running Genetic Algorithm"
      ],
      "metadata": {
        "id": "tcjpc6-MRkg0"
      }
    },
    {
      "cell_type": "code",
      "source": [
        "\n",
        "\n",
        "def run_ga(data, pop_size=50, generations=60, parallel=False):\n",
        "    cost_matrix = create_cost_matrix(data)\n",
        "    pop = initialize_population(data, pop_size)\n",
        "\n",
        "    best_fit = float('inf')\n",
        "    best_sol = None\n",
        "    history = []\n",
        "\n",
        "    if parallel:\n",
        "        pool = multiprocessing.Pool()\n",
        "\n",
        "    for g in range(generations):\n",
        "        if parallel:\n",
        "            fits = pool.starmap(fitness, [(ind, data, cost_matrix) for ind in pop])\n",
        "        else:\n",
        "            fits = [fitness(ind, data, cost_matrix) for ind in pop]\n",
        "\n",
        "        best_idx = np.argmin(fits)\n",
        "        if fits[best_idx] < best_fit:\n",
        "            best_fit = fits[best_idx]\n",
        "            best_sol = pop[best_idx]\n",
        "\n",
        "        history.append(best_fit)\n",
        "        new_pop = [pop[best_idx]]\n",
        "\n",
        "        while len(new_pop) < pop_size:\n",
        "            p1, p2 = select_parents(pop, fits)\n",
        "            c1, c2 = crossover(p1, p2)\n",
        "            new_pop.append(mutate(c1))\n",
        "            if len(new_pop) < pop_size:\n",
        "                new_pop.append(mutate(c2))\n",
        "        pop = new_pop\n",
        "\n",
        "    if parallel:\n",
        "        pool.close()\n",
        "        pool.join()\n",
        "\n",
        "    return best_sol, best_fit, history"
      ],
      "metadata": {
        "id": "Mq8qqrXg_daC"
      },
      "execution_count": 15,
      "outputs": []
    },
    {
      "cell_type": "markdown",
      "source": [
        "Visuallization"
      ],
      "metadata": {
        "id": "PtUWj4-2R_a8"
      }
    },
    {
      "cell_type": "code",
      "source": [
        "\n",
        "\n",
        "def plot_results(baseline, serial, parallel, t_serial, t_parallel, h_serial, h_parallel):\n",
        "    plt.figure(figsize=(10, 5))\n",
        "    plt.plot(h_serial, label=\"Serial GA\")\n",
        "    plt.plot(h_parallel, label=\"Parallel GA\")\n",
        "    plt.axhline(baseline, linestyle='--', color='r', label=\"Greedy\")\n",
        "    plt.title(\"Fitness Convergence\")\n",
        "    plt.legend()\n",
        "    plt.grid(True)\n",
        "    plt.show()\n",
        "\n",
        "    plt.figure()\n",
        "    plt.bar([\"Serial\", \"Parallel\"], [t_serial, t_parallel])\n",
        "    plt.title(\"Execution Time\")\n",
        "    plt.ylabel(\"Seconds\")\n",
        "    plt.grid(True)\n",
        "    plt.show()\n",
        "\n",
        "    plt.figure()\n",
        "    bars = plt.bar([\"Greedy\", \"Serial GA\", \"Parallel GA\"], [baseline, serial, parallel], color=[\"red\", \"blue\", \"green\"])\n",
        "    plt.title(\"Final Fitness Comparison\")\n",
        "    plt.ylabel(\"Fitness (Lower is Better)\")\n",
        "    plt.grid(True, axis='y')\n",
        "\n",
        "    if cpu_usage_data:\n",
        "        plt.figure()\n",
        "        plt.plot(cpu_usage_data)\n",
        "        plt.title(\"CPU Usage (%)\")\n",
        "        plt.xlabel(\"Time\")\n",
        "        plt.ylabel(\"CPU %\")\n",
        "        plt.grid(True)\n",
        "        plt.show()"
      ],
      "metadata": {
        "id": "Vr5qfDG2_i_a"
      },
      "execution_count": 16,
      "outputs": []
    },
    {
      "cell_type": "markdown",
      "source": [
        "Serial and Parallel Comparison"
      ],
      "metadata": {
        "id": "VD-6-QTYR5QM"
      }
    },
    {
      "cell_type": "code",
      "execution_count": 20,
      "metadata": {
        "colab": {
          "base_uri": "https://localhost:8080/",
          "height": 1000
        },
        "id": "End-f0HL6f_a",
        "outputId": "1186e96c-9e5f-4154-fd8f-9698472b17cd"
      },
      "outputs": [
        {
          "output_type": "stream",
          "name": "stdout",
          "text": [
            "Running Greedy Baseline...\n",
            "Greedy fitness: 700728.26\n",
            "\n",
            "Running Serial GA...\n",
            "Serial GA fitness: 657960.17 in 16.61s\n",
            "\n",
            "Running Parallel GA...\n",
            "Parallel GA fitness: 657815.86 in 8.02s\n"
          ]
        },
        {
          "output_type": "display_data",
          "data": {
            "text/plain": [
              "<Figure size 1000x500 with 1 Axes>"
            ],
            "image/png": "[encoded data removed]"
          },
          "metadata": {}
        },
        {
          "output_type": "display_data",
          "data": {
            "text/plain": [
              "<Figure size 640x480 with 1 Axes>"
            ],
            "image/png": "[encoded data removed]"
          },
          "metadata": {}
        },
        {
          "output_type": "display_data",
          "data": {
            "text/plain": [
              "<Figure size 640x480 with 1 Axes>"
            ],
            "image/png": "[encoded data removed]"
          },
          "metadata": {}
        },
        {
          "output_type": "display_data",
          "data": {
            "text/plain": [
              "<Figure size 640x480 with 1 Axes>"
            ],
            "image/png": "[encoded data removed]"
          },
          "metadata": {}
        }
      ],
      "source": [
        "\n",
        "if __name__ == \"__main__\":\n",
        "    data = load_energy_data(\"Smartgrid.csv\")\n",
        "    cost_matrix = create_cost_matrix(data)\n",
        "\n",
        "    print(\"Running Greedy Baseline...\")\n",
        "    greedy_sol = initialize_population(data, 1)[0]\n",
        "    greedy_fit = fitness(greedy_sol, data, cost_matrix)\n",
        "    print(f\"Greedy fitness: {greedy_fit:.2f}\")\n",
        "\n",
        "    start_monitoring()\n",
        "\n",
        "    print(\"\\nRunning Serial GA...\")\n",
        "    t0 = time.time()\n",
        "    best_s, fit_s, hist_s = run_ga(data, pop_size=200, generations=50, parallel=False)\n",
        "    t1 = time.time() - t0\n",
        "    print(f\"Serial GA fitness: {fit_s:.2f} in {t1:.2f}s\")\n",
        "\n",
        "    print(\"\\nRunning Parallel GA...\")\n",
        "    t2 = time.time()\n",
        "    best_p, fit_p, hist_p = run_ga(data, pop_size=200, generations=50, parallel=True)\n",
        "    t3 = time.time() - t2\n",
        "    print(f\"Parallel GA fitness: {fit_p:.2f} in {t3:.2f}s\")\n",
        "\n",
        "    stop_monitoring()\n",
        "\n",
        "    plot_results(greedy_fit, fit_s, fit_p, t1, t3, hist_s, hist_p)\n"
      ]
    }
  ]
}